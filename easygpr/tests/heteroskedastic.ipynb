{
 "cells": [
  {
   "cell_type": "code",
   "execution_count": 1,
   "id": "initial_id",
   "metadata": {
    "collapsed": true,
    "ExecuteTime": {
     "end_time": "2023-09-16T00:29:40.259186800Z",
     "start_time": "2023-09-16T00:29:31.689688400Z"
    }
   },
   "outputs": [
    {
     "name": "stdout",
     "output_type": "stream",
     "text": [
      "RBFKernel(\n",
      "  (raw_lengthscale_constraint): Positive()\n",
      ")\n"
     ]
    },
    {
     "ename": "RuntimeError",
     "evalue": "Trying to backward through the graph a second time (or directly access saved tensors after they have already been freed). Saved intermediate values of the graph are freed when you call .backward() or autograd.grad(). Specify retain_graph=True if you need to backward through the graph a second time or if you need to access saved tensors after calling backward.",
     "output_type": "error",
     "traceback": [
      "\u001B[1;31m---------------------------------------------------------------------------\u001B[0m",
      "\u001B[1;31mRuntimeError\u001B[0m                              Traceback (most recent call last)",
      "Cell \u001B[1;32mIn[1], line 30\u001B[0m\n\u001B[0;32m     27\u001B[0m model \u001B[38;5;241m=\u001B[39m GPRModel(train_x\u001B[38;5;241m=\u001B[39mx_train, train_y\u001B[38;5;241m=\u001B[39my_train, kernel\u001B[38;5;241m=\u001B[39mk1, noise_x\u001B[38;5;241m=\u001B[39mnoise_x, heteroskedastic\u001B[38;5;241m=\u001B[39m\u001B[38;5;28;01mTrue\u001B[39;00m)\n\u001B[0;32m     29\u001B[0m \u001B[38;5;66;03m# Fit the model\u001B[39;00m\n\u001B[1;32m---> 30\u001B[0m model\u001B[38;5;241m.\u001B[39mfit_model(training_iterations\u001B[38;5;241m=\u001B[39m\u001B[38;5;241m100\u001B[39m)\n\u001B[0;32m     32\u001B[0m \u001B[38;5;66;03m# Generate test points\u001B[39;00m\n\u001B[0;32m     33\u001B[0m x_test \u001B[38;5;241m=\u001B[39m torch\u001B[38;5;241m.\u001B[39mlinspace(\u001B[38;5;241m0\u001B[39m, \u001B[38;5;241m1\u001B[39m, \u001B[38;5;241m100\u001B[39m)\n",
      "File \u001B[1;32mc:\\users/jrisk/easygpr/easygpr\\core.py:130\u001B[0m, in \u001B[0;36mGPRModel.fit_model\u001B[1;34m(self, training_iterations, verbose)\u001B[0m\n\u001B[0;32m    127\u001B[0m     output \u001B[38;5;241m=\u001B[39m \u001B[38;5;28mself\u001B[39m(\u001B[38;5;28mself\u001B[39m\u001B[38;5;241m.\u001B[39mtrain_x_scaled)\n\u001B[0;32m    129\u001B[0m     loss \u001B[38;5;241m=\u001B[39m \u001B[38;5;241m-\u001B[39mmll(output, \u001B[38;5;28mself\u001B[39m\u001B[38;5;241m.\u001B[39mtrain_y)\n\u001B[1;32m--> 130\u001B[0m     loss\u001B[38;5;241m.\u001B[39mbackward()\n\u001B[0;32m    131\u001B[0m     optimizer\u001B[38;5;241m.\u001B[39mstep()\n\u001B[0;32m    133\u001B[0m \u001B[38;5;28mself\u001B[39m\u001B[38;5;241m.\u001B[39mcompute_bic()\n",
      "File \u001B[1;32m~\\anaconda3\\envs\\easygpr\\Lib\\site-packages\\torch\\_tensor.py:487\u001B[0m, in \u001B[0;36mTensor.backward\u001B[1;34m(self, gradient, retain_graph, create_graph, inputs)\u001B[0m\n\u001B[0;32m    477\u001B[0m \u001B[38;5;28;01mif\u001B[39;00m has_torch_function_unary(\u001B[38;5;28mself\u001B[39m):\n\u001B[0;32m    478\u001B[0m     \u001B[38;5;28;01mreturn\u001B[39;00m handle_torch_function(\n\u001B[0;32m    479\u001B[0m         Tensor\u001B[38;5;241m.\u001B[39mbackward,\n\u001B[0;32m    480\u001B[0m         (\u001B[38;5;28mself\u001B[39m,),\n\u001B[1;32m   (...)\u001B[0m\n\u001B[0;32m    485\u001B[0m         inputs\u001B[38;5;241m=\u001B[39minputs,\n\u001B[0;32m    486\u001B[0m     )\n\u001B[1;32m--> 487\u001B[0m torch\u001B[38;5;241m.\u001B[39mautograd\u001B[38;5;241m.\u001B[39mbackward(\n\u001B[0;32m    488\u001B[0m     \u001B[38;5;28mself\u001B[39m, gradient, retain_graph, create_graph, inputs\u001B[38;5;241m=\u001B[39minputs\n\u001B[0;32m    489\u001B[0m )\n",
      "File \u001B[1;32m~\\anaconda3\\envs\\easygpr\\Lib\\site-packages\\torch\\autograd\\__init__.py:200\u001B[0m, in \u001B[0;36mbackward\u001B[1;34m(tensors, grad_tensors, retain_graph, create_graph, grad_variables, inputs)\u001B[0m\n\u001B[0;32m    195\u001B[0m     retain_graph \u001B[38;5;241m=\u001B[39m create_graph\n\u001B[0;32m    197\u001B[0m \u001B[38;5;66;03m# The reason we repeat same the comment below is that\u001B[39;00m\n\u001B[0;32m    198\u001B[0m \u001B[38;5;66;03m# some Python versions print out the first line of a multi-line function\u001B[39;00m\n\u001B[0;32m    199\u001B[0m \u001B[38;5;66;03m# calls in the traceback and some print out the last line\u001B[39;00m\n\u001B[1;32m--> 200\u001B[0m Variable\u001B[38;5;241m.\u001B[39m_execution_engine\u001B[38;5;241m.\u001B[39mrun_backward(  \u001B[38;5;66;03m# Calls into the C++ engine to run the backward pass\u001B[39;00m\n\u001B[0;32m    201\u001B[0m     tensors, grad_tensors_, retain_graph, create_graph, inputs,\n\u001B[0;32m    202\u001B[0m     allow_unreachable\u001B[38;5;241m=\u001B[39m\u001B[38;5;28;01mTrue\u001B[39;00m, accumulate_grad\u001B[38;5;241m=\u001B[39m\u001B[38;5;28;01mTrue\u001B[39;00m)\n",
      "\u001B[1;31mRuntimeError\u001B[0m: Trying to backward through the graph a second time (or directly access saved tensors after they have already been freed). Saved intermediate values of the graph are freed when you call .backward() or autograd.grad(). Specify retain_graph=True if you need to backward through the graph a second time or if you need to access saved tensors after calling backward."
     ]
    }
   ],
   "source": [
    "import sys\n",
    "sys.path.append('c:/users/jrisk/easygpr/easygpr')  # Adjust this path to point to your easygpr directory\n",
    "\n",
    "\n",
    "\n",
    "# TODO: imports\n",
    "import torch\n",
    "import gpytorch\n",
    "import core\n",
    "from core import GPRModel\n",
    "import kernels\n",
    "import matplotlib.pyplot as plt\n",
    "from utils.data_handling import to_numpy\n",
    "\n",
    "import numpy as np\n",
    "\n",
    "# Generate synthetic data\n",
    "torch.manual_seed(42)\n",
    "x_train = torch.linspace(0, 1, 10)\n",
    "y_train = torch.sin(2 * np.pi * x_train) + 0.1 * torch.randn_like(x_train)\n",
    "\n",
    "# Specify per-entry noise values\n",
    "noise_x = 0.05 * torch.ones_like(y_train)  # Example: constant noise for each data point\n",
    "\n",
    "# Create a heteroskedastic GPR model\n",
    "k1 = gpytorch.kernels.RBFKernel()\n",
    "model = GPRModel(train_x=x_train, train_y=y_train, kernel=k1, noise_x=noise_x, heteroskedastic=True)\n",
    "\n",
    "# Fit the model\n",
    "model.fit_model(training_iterations=100)\n",
    "\n",
    "# Generate test points\n",
    "x_test = torch.linspace(0, 1, 100)\n",
    "\n",
    "# Make predictions\n",
    "predictions = model.make_predictions(x_test, type='f')\n",
    "\n",
    "# Extract means and standard deviations for predictions\n",
    "means = predictions.mean\n",
    "stddevs = torch.sqrt(predictions.variance)\n",
    "\n",
    "# Plot the data, mean, and prediction intervals\n",
    "plt.figure(figsize=(8, 6))\n",
    "plt.scatter(x_train, y_train, color='blue', marker='o', label='Training Data', zorder=5)\n",
    "plt.plot(x_test, means, color='red', label='Mean Prediction')\n",
    "plt.fill_between(x_test, means - 1.96 * stddevs, means + 1.96 * stddevs, color='gray', alpha=0.5, label='95% Prediction Interval')\n",
    "plt.xlabel('X')\n",
    "plt.ylabel('Y')\n",
    "plt.title('Heteroskedastic GPR with Prediction Intervals')\n",
    "plt.legend()\n",
    "plt.show()\n"
   ]
  },
  {
   "cell_type": "code",
   "execution_count": null,
   "outputs": [],
   "source": [],
   "metadata": {
    "collapsed": false,
    "ExecuteTime": {
     "start_time": "2023-09-16T00:29:40.255187900Z"
    }
   },
   "id": "791641404666eb06"
  }
 ],
 "metadata": {
  "kernelspec": {
   "display_name": "Python 3",
   "language": "python",
   "name": "python3"
  },
  "language_info": {
   "codemirror_mode": {
    "name": "ipython",
    "version": 2
   },
   "file_extension": ".py",
   "mimetype": "text/x-python",
   "name": "python",
   "nbconvert_exporter": "python",
   "pygments_lexer": "ipython2",
   "version": "2.7.6"
  }
 },
 "nbformat": 4,
 "nbformat_minor": 5
}
